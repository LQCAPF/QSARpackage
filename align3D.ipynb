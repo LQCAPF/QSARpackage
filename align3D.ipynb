{
 "cells": [
  {
   "cell_type": "code",
   "execution_count": 1,
   "metadata": {},
   "outputs": [],
   "source": [
    "from openbabel import pybel\n",
    "import os\n",
    "import re\n",
    "import argparse\n",
    "import numpy as np\n",
    "import pandas as pd\n",
    "from rdkit.Chem import AllChem\n",
    "from rdkit import Chem\n",
    "from rdkit.Chem.rdMolAlign import AlignMol\n",
    "import copy\n",
    "from openbabel import openbabel as ob"
   ]
  },
  {
   "cell_type": "code",
   "execution_count": 2,
   "metadata": {},
   "outputs": [],
   "source": [
    "directory = \"/home/jpam/google_drive/UFMG/2020-1/modelagem/moleculas_desenhadas/QSAR/3D\"\n",
    "alignment_file = \"alinhamento.csv\""
   ]
  },
  {
   "cell_type": "code",
   "execution_count": 3,
   "metadata": {},
   "outputs": [],
   "source": [
    "df = pd.read_csv(os.path.join(directory,alignment_file),sep=\";\",header = None)"
   ]
  },
  {
   "cell_type": "code",
   "execution_count": 9,
   "metadata": {},
   "outputs": [],
   "source": [
    "files = [f for f in os.listdir(directory) if f.endswith(\"mol2\")]"
   ]
  },
  {
   "cell_type": "code",
   "execution_count": 4,
   "metadata": {},
   "outputs": [],
   "source": [
    "mols = [pybel.readfile('mol2',os.path.join(directory,f)) \n",
    "\t    for f in df.iloc[:,0]]"
   ]
  },
  {
   "cell_type": "code",
   "execution_count": 5,
   "metadata": {},
   "outputs": [],
   "source": [
    "rdmols = []\n",
    "for mol in mols:\n",
    "    for c in mol:\n",
    "        rdmol = Chem.MolFromMolBlock(c.write('mol'),removeHs=False)\n",
    "    rdmols.append(copy.copy(rdmol))"
   ]
  },
  {
   "cell_type": "code",
   "execution_count": null,
   "metadata": {},
   "outputs": [],
   "source": [
    "rdmols"
   ]
  },
  {
   "cell_type": "code",
   "execution_count": 6,
   "metadata": {},
   "outputs": [],
   "source": [
    "refAtoms = [int(a)-1 for a in df[1][0].split(',')]"
   ]
  },
  {
   "cell_type": "code",
   "execution_count": 7,
   "metadata": {},
   "outputs": [],
   "source": [
    "refMol = rdmols[0]\n",
    "mols_aligned = [pybel.readstring(\"mol\",Chem.MolToMolBlock(refMol))]\n",
    "for i,prbMol in enumerate(rdmols[1:]):\n",
    "    prbAtoms = [int(a)-1 for a in df[1][i+1].split(',')]\n",
    "    alinhamento = AlignMol(prbMol,refMol,atomMap=list(zip(prbAtoms,refAtoms)))\n",
    "    mols_aligned.append(pybel.readstring(\"mol\",Chem.MolToMolBlock(prbMol)))\n"
   ]
  },
  {
   "cell_type": "code",
   "execution_count": 10,
   "metadata": {},
   "outputs": [],
   "source": [
    "for i,(m1,m2) in enumerate(zip(mols_aligned,mols)):\n",
    "    for (a1,a2) in zip(m1,m2):\n",
    "        print(a1,a2)\n",
    "        a1.partialcharge = a2.partialcharge\n",
    "    m1.write(\"mol2\",files[i][:-4]+\"_aligned.mol2\",True)"
   ]
  },
  {
   "cell_type": "code",
   "execution_count": null,
   "metadata": {},
   "outputs": [],
   "source": [
    "obConversion = ob.OBConversion()"
   ]
  },
  {
   "cell_type": "code",
   "execution_count": null,
   "metadata": {},
   "outputs": [],
   "source": [
    "obConversion.SetInAndOutFormats(\"g09\",\"mol2\")"
   ]
  },
  {
   "cell_type": "code",
   "execution_count": null,
   "metadata": {},
   "outputs": [],
   "source": [
    "obmols = []\n",
    "for i in range(len(files)):\n",
    "    obmol = ob.OBMol()\n",
    "    obConversion.ReadFile(obmol, os.path.join(directory,df.iloc[i,0]+\".log\"))\n",
    "    obmols.append(obmol)"
   ]
  },
  {
   "cell_type": "code",
   "execution_count": null,
   "metadata": {},
   "outputs": [],
   "source": [
    "os.path.basename(obmols[0].GetTitle())"
   ]
  },
  {
   "cell_type": "code",
   "execution_count": null,
   "metadata": {},
   "outputs": [],
   "source": [
    "for at in ob.OBMolAtomIter(obmols[0]):\n",
    "    print(at.GetPartialCharge())"
   ]
  },
  {
   "cell_type": "code",
   "execution_count": null,
   "metadata": {},
   "outputs": [],
   "source": [
    "for m1,m2 in zip(mols_aligned,obmols):\n",
    "    for (a1,a2) in zip(ob.OBMolAtomIter(m1.OBMol),ob.OBMolAtomIter(m2)):\n",
    "#         a1.partialcharge = a2.partialcharge\n",
    "        a1.SetPartialCharge(a2.GetPartialCharge())\n",
    "    m1.write(\"mol2\",m1.title[:-4]+\"_aligned.mol2\",True)"
   ]
  },
  {
   "cell_type": "code",
   "execution_count": null,
   "metadata": {},
   "outputs": [],
   "source": [
    "obmols[0].GetTitle()"
   ]
  },
  {
   "cell_type": "code",
   "execution_count": null,
   "metadata": {},
   "outputs": [],
   "source": [
    "m1.title"
   ]
  },
  {
   "cell_type": "code",
   "execution_count": null,
   "metadata": {},
   "outputs": [],
   "source": []
  }
 ],
 "metadata": {
  "kernelspec": {
   "display_name": "lqtaqsar",
   "language": "python",
   "name": "lqtaqsar"
  },
  "language_info": {
   "codemirror_mode": {
    "name": "ipython",
    "version": 3
   },
   "file_extension": ".py",
   "mimetype": "text/x-python",
   "name": "python",
   "nbconvert_exporter": "python",
   "pygments_lexer": "ipython3",
   "version": "3.7.7"
  }
 },
 "nbformat": 4,
 "nbformat_minor": 4
}
