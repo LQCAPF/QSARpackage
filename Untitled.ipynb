{
 "cells": [
  {
   "cell_type": "code",
   "execution_count": 2,
   "metadata": {},
   "outputs": [],
   "source": [
    "import openbabel as ob"
   ]
  },
  {
   "cell_type": "code",
   "execution_count": 6,
   "metadata": {},
   "outputs": [
    {
     "data": {
      "text/plain": [
       "True"
      ]
     },
     "execution_count": 6,
     "metadata": {},
     "output_type": "execute_result"
    }
   ],
   "source": [
    "fileName = \"teste/cks03.log\"\n",
    "\n",
    "molecule = ob.OBMol() \n",
    "obConversion = ob.OBConversion() # objeto que converte entre formatos\n",
    "obConversion.SetInAndOutFormats(\"g09\",\"mol\")\n",
    "obConversion.ReadFile(molecule, fileName)        \n",
    "ff = ob.OBForceField.FindForceField('GAFF')\n",
    "ff.Setup(molecule)\n",
    "ff.GetAtomTypes(molecule)"
   ]
  },
  {
   "cell_type": "code",
   "execution_count": 8,
   "metadata": {},
   "outputs": [
    {
     "name": "stdout",
     "output_type": "stream",
     "text": [
      "c1\n",
      "0.281551\n",
      "ca\n",
      "-0.051779\n",
      "ca\n",
      "-0.223381\n",
      "ca\n",
      "-0.122844\n",
      "ca\n",
      "-0.161949\n",
      "ca\n",
      "0.099309\n",
      "ca\n",
      "0.145123\n",
      "cc\n",
      "0.726248\n",
      "c3\n",
      "0.63002\n",
      "c2\n",
      "-0.614623\n",
      "cc\n",
      "0.436552\n",
      "c\n",
      "0.71025\n",
      "c3\n",
      "-0.256463\n",
      "c3\n",
      "0.003956\n",
      "c3\n",
      "0.1694\n",
      "n1\n",
      "-0.447365\n",
      "nc\n",
      "-0.715286\n",
      "n3\n",
      "-0.501483\n",
      "n\n",
      "-0.085859\n",
      "n3\n",
      "-0.632392\n",
      "n3\n",
      "-0.634562\n",
      "o\n",
      "-0.509915\n",
      "cl\n",
      "-0.116626\n",
      "ha\n",
      "0.098017\n",
      "ha\n",
      "0.1301\n",
      "ha\n",
      "0.10319\n",
      "ha\n",
      "0.111398\n",
      "ha\n",
      "0.213609\n",
      "hc\n",
      "0.107572\n",
      "hc\n",
      "0.077598\n",
      "hc\n",
      "0.082602\n",
      "hc\n",
      "0.041157\n",
      "hc\n",
      "0.063948\n",
      "h1\n",
      "0.089765\n",
      "hn\n",
      "0.42169\n",
      "hn\n",
      "0.331472\n"
     ]
    }
   ],
   "source": [
    "for at in ob.OBMolAtomIter(molecule):\n",
    "    tipo = at.GetData(\"FFAtomType\").GetValue()\n",
    "    print(tipo)\n",
    "    print(at.GetPartialCharge())\n"
   ]
  },
  {
   "cell_type": "code",
   "execution_count": 10,
   "metadata": {},
   "outputs": [],
   "source": [
    "import pybel"
   ]
  },
  {
   "cell_type": "code",
   "execution_count": 22,
   "metadata": {},
   "outputs": [],
   "source": [
    "m = pybel.readfile('g09',fileName)"
   ]
  },
  {
   "cell_type": "code",
   "execution_count": 23,
   "metadata": {},
   "outputs": [],
   "source": [
    "mol = list(m)[0]"
   ]
  },
  {
   "cell_type": "code",
   "execution_count": 25,
   "metadata": {},
   "outputs": [
    {
     "name": "stdout",
     "output_type": "stream",
     "text": [
      "0.281551\n",
      "-0.051779\n",
      "-0.223381\n",
      "-0.122844\n",
      "-0.161949\n",
      "0.099309\n",
      "0.145123\n",
      "0.726248\n",
      "0.63002\n",
      "-0.614623\n",
      "0.436552\n",
      "0.71025\n",
      "-0.256463\n",
      "0.003956\n",
      "0.1694\n",
      "-0.447365\n",
      "-0.715286\n",
      "-0.501483\n",
      "-0.085859\n",
      "-0.632392\n",
      "-0.634562\n",
      "-0.509915\n",
      "-0.116626\n",
      "0.098017\n",
      "0.1301\n",
      "0.10319\n",
      "0.111398\n",
      "0.213609\n",
      "0.107572\n",
      "0.077598\n",
      "0.082602\n",
      "0.041157\n",
      "0.063948\n",
      "0.089765\n",
      "0.42169\n",
      "0.331472\n"
     ]
    }
   ],
   "source": [
    "for a in mol.atoms:\n",
    "    print(a.partialcharge)"
   ]
  },
  {
   "cell_type": "code",
   "execution_count": null,
   "metadata": {},
   "outputs": [],
   "source": []
  }
 ],
 "metadata": {
  "kernelspec": {
   "display_name": "Python 3",
   "language": "python",
   "name": "python3"
  },
  "language_info": {
   "codemirror_mode": {
    "name": "ipython",
    "version": 3
   },
   "file_extension": ".py",
   "mimetype": "text/x-python",
   "name": "python",
   "nbconvert_exporter": "python",
   "pygments_lexer": "ipython3",
   "version": "3.6.8"
  }
 },
 "nbformat": 4,
 "nbformat_minor": 2
}
